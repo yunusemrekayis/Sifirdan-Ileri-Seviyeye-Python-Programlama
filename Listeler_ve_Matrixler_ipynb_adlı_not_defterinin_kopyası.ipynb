{
  "nbformat": 4,
  "nbformat_minor": 0,
  "metadata": {
    "colab": {
      "provenance": [],
      "authorship_tag": "ABX9TyMk4X3V5H2a/Htz7H1PBo99",
      "include_colab_link": true
    },
    "kernelspec": {
      "name": "python3",
      "display_name": "Python 3"
    },
    "language_info": {
      "name": "python"
    }
  },
  "cells": [
    {
      "cell_type": "markdown",
      "metadata": {
        "id": "view-in-github",
        "colab_type": "text"
      },
      "source": [
        "<a href=\"https://colab.research.google.com/github/yunusemrekayis/Sifirdan-Ileri-Seviyeye-Python-Programlama/blob/master/Listeler_ve_Matrixler_ipynb_adl%C4%B1_not_defterinin_kopyas%C4%B1.ipynb\" target=\"_parent\"><img src=\"https://colab.research.google.com/assets/colab-badge.svg\" alt=\"Open In Colab\"/></a>"
      ]
    },
    {
      "cell_type": "markdown",
      "source": [
        "**LİSTELER![scalar-vector-matrix.svg](data:image/svg+xml;base64,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![scalar-vector-matrix.png](data:image/png;base64,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))**"
      ],
      "metadata": {
        "id": "Xhl-RQ72aNYV"
      }
    },
    {
      "cell_type": "markdown",
      "source": [
        "Listeler farklı veri tiplerini bir arada tutmaya yarar. Bunun amacı index kullanarak verileri düzenli olarak depolamak ve ihtiyaç olduğu zaman indeksleri kullanarak verilerimize ulaşmaktır"
      ],
      "metadata": {
        "id": "FpZGATNJaR_d"
      }
    },
    {
      "cell_type": "code",
      "source": [
        "liste = [] # Boş liste tanımlama"
      ],
      "metadata": {
        "id": "UAnwY1Hiagy0"
      },
      "execution_count": null,
      "outputs": []
    },
    {
      "cell_type": "code",
      "source": [
        "print(liste)"
      ],
      "metadata": {
        "colab": {
          "base_uri": "https://localhost:8080/"
        },
        "id": "ibVk66RPawzk",
        "outputId": "b15573b1-78fb-42d8-8fe2-3aae940da570"
      },
      "execution_count": null,
      "outputs": [
        {
          "output_type": "stream",
          "name": "stdout",
          "text": [
            "[]\n"
          ]
        }
      ]
    },
    {
      "cell_type": "code",
      "source": [
        "liste = list() # Parametre vermeden tanımladığımız list() fonksiyonu boş listedir\n",
        "print(liste)"
      ],
      "metadata": {
        "colab": {
          "base_uri": "https://localhost:8080/"
        },
        "id": "10-K3iqyax-j",
        "outputId": "2283b4bf-d4ab-4c81-87e4-3bbdd1cf63b6"
      },
      "execution_count": null,
      "outputs": [
        {
          "output_type": "stream",
          "name": "stdout",
          "text": [
            "[]\n"
          ]
        }
      ]
    },
    {
      "cell_type": "markdown",
      "source": [
        "İndexler ya string yapısında ya da bir liste tipinde her bir elemana bir numara atayarak elemanların bir düzen içerisinde tutulmasını sağlar"
      ],
      "metadata": {
        "id": "DFVwJppAbYAm"
      }
    },
    {
      "cell_type": "code",
      "source": [
        "metin = \"Emre\"\n",
        "print(metin)"
      ],
      "metadata": {
        "colab": {
          "base_uri": "https://localhost:8080/"
        },
        "id": "LAIE_vGJbkHK",
        "outputId": "e2c273f3-ecb0-47d4-ce65-e4beed61046e"
      },
      "execution_count": null,
      "outputs": [
        {
          "output_type": "stream",
          "name": "stdout",
          "text": [
            "Emre\n"
          ]
        }
      ]
    },
    {
      "cell_type": "code",
      "source": [
        "metin[0]"
      ],
      "metadata": {
        "colab": {
          "base_uri": "https://localhost:8080/",
          "height": 36
        },
        "id": "0u62o9t0bmrL",
        "outputId": "0a170d57-67ca-4fbd-8912-96f758be4d69"
      },
      "execution_count": null,
      "outputs": [
        {
          "output_type": "execute_result",
          "data": {
            "text/plain": [
              "'E'"
            ],
            "application/vnd.google.colaboratory.intrinsic+json": {
              "type": "string"
            }
          },
          "metadata": {},
          "execution_count": 8
        }
      ]
    },
    {
      "cell_type": "code",
      "source": [
        "metin[1]"
      ],
      "metadata": {
        "colab": {
          "base_uri": "https://localhost:8080/",
          "height": 36
        },
        "id": "gjtpmOZ3cE2S",
        "outputId": "19c063fb-56d4-4818-ed65-52c918accad5"
      },
      "execution_count": null,
      "outputs": [
        {
          "output_type": "execute_result",
          "data": {
            "text/plain": [
              "'m'"
            ],
            "application/vnd.google.colaboratory.intrinsic+json": {
              "type": "string"
            }
          },
          "metadata": {},
          "execution_count": 9
        }
      ]
    },
    {
      "cell_type": "code",
      "source": [
        "print(f\"\"\"\n",
        "0.indeks {metin[0]}\n",
        "1.indeks {metin[1]}\n",
        "2.indeks {metin[2]}\n",
        "3.indeks {metin[3]}\n",
        "      \"\"\")"
      ],
      "metadata": {
        "colab": {
          "base_uri": "https://localhost:8080/"
        },
        "id": "AnMzaPIjcGnq",
        "outputId": "fedba926-10ec-49d7-e95f-d0038068db08"
      },
      "execution_count": null,
      "outputs": [
        {
          "output_type": "stream",
          "name": "stdout",
          "text": [
            "\n",
            "0.indeks E\n",
            "1.indeks m\n",
            "2.indeks r\n",
            "3.indeks e\n"
          ]
        }
      ]
    },
    {
      "cell_type": "markdown",
      "source": [
        "**STRİNGLER DEĞİŞTİRELEMEZLER(İNDEKS YAPISIYLA)**"
      ],
      "metadata": {
        "id": "cH2n-L4xc2Ok"
      }
    },
    {
      "cell_type": "code",
      "source": [
        "metin = \"Merhaba Bugün Çalıştım.\"\n",
        "metin[7:13] = \"Dün\""
      ],
      "metadata": {
        "colab": {
          "base_uri": "https://localhost:8080/",
          "height": 165
        },
        "id": "9ctICgBocaqT",
        "outputId": "247fe489-3c80-4281-d2ea-dec86eb8240b"
      },
      "execution_count": null,
      "outputs": [
        {
          "output_type": "error",
          "ename": "TypeError",
          "evalue": "'str' object does not support item assignment",
          "traceback": [
            "\u001b[0;31m---------------------------------------------------------------------------\u001b[0m",
            "\u001b[0;31mTypeError\u001b[0m                                 Traceback (most recent call last)",
            "\u001b[0;32m<ipython-input-11-c7b4658ce31b>\u001b[0m in \u001b[0;36m<cell line: 2>\u001b[0;34m()\u001b[0m\n\u001b[1;32m      1\u001b[0m \u001b[0mmetin\u001b[0m \u001b[0;34m=\u001b[0m \u001b[0;34m\"Merhaba Bugün Çalıştım.\"\u001b[0m\u001b[0;34m\u001b[0m\u001b[0;34m\u001b[0m\u001b[0m\n\u001b[0;32m----> 2\u001b[0;31m \u001b[0mmetin\u001b[0m\u001b[0;34m[\u001b[0m\u001b[0;36m7\u001b[0m\u001b[0;34m:\u001b[0m\u001b[0;36m13\u001b[0m\u001b[0;34m]\u001b[0m \u001b[0;34m=\u001b[0m \u001b[0;34m\"Dün\"\u001b[0m\u001b[0;34m\u001b[0m\u001b[0;34m\u001b[0m\u001b[0m\n\u001b[0m",
            "\u001b[0;31mTypeError\u001b[0m: 'str' object does not support item assignment"
          ]
        }
      ]
    },
    {
      "cell_type": "code",
      "source": [
        "kelimeler = [\"Merhaba\",\"Bugün\",\"Çalıştım\"]\n",
        "print(f\"\"\"\n",
        "    0.index = {kelimeler[0]}\n",
        "    1.index = {kelimeler[1]}\n",
        "    2.index = {kelimeler[2]}\"\"\")"
      ],
      "metadata": {
        "colab": {
          "base_uri": "https://localhost:8080/"
        },
        "id": "G0AiLnlVdVEi",
        "outputId": "bccd6ed3-9a52-4454-d446-0ff5d548a70c"
      },
      "execution_count": null,
      "outputs": [
        {
          "output_type": "stream",
          "name": "stdout",
          "text": [
            "\n",
            "    0.index = Merhaba\n",
            "    1.index = Bugün\n",
            "    2.index = Çalıştım\n"
          ]
        }
      ]
    },
    {
      "cell_type": "code",
      "source": [
        "kelimeler[1] = \"Dün\"\n",
        "kelimeler"
      ],
      "metadata": {
        "colab": {
          "base_uri": "https://localhost:8080/"
        },
        "id": "XSECpL65dnLR",
        "outputId": "619d3e88-20ae-4db5-f80c-473d6af0b488"
      },
      "execution_count": null,
      "outputs": [
        {
          "output_type": "execute_result",
          "data": {
            "text/plain": [
              "['Merhaba', 'Dün', 'Çalıştım']"
            ]
          },
          "metadata": {},
          "execution_count": 14
        }
      ]
    },
    {
      "cell_type": "markdown",
      "source": [
        "**2.Özellik: ** Listeler farklı veri tiplerini bir arada tutabilir"
      ],
      "metadata": {
        "id": "5KcEQ1nUd_GS"
      }
    },
    {
      "cell_type": "code",
      "source": [
        "farkli_tipler = [\"meyve\",15,3.14,True,[1,2,3,4]]\n",
        "farkli_tipler"
      ],
      "metadata": {
        "colab": {
          "base_uri": "https://localhost:8080/"
        },
        "id": "eupwYH7td6Jh",
        "outputId": "16e58676-4361-4518-b100-db47a29f3086"
      },
      "execution_count": null,
      "outputs": [
        {
          "output_type": "execute_result",
          "data": {
            "text/plain": [
              "['meyve', 15, 3.14, True, [1, 2, 3, 4]]"
            ]
          },
          "metadata": {},
          "execution_count": 15
        }
      ]
    },
    {
      "cell_type": "code",
      "source": [
        "print(f\"\"\"\n",
        "    String = {farkli_tipler[0]}\n",
        "    İnteger = {farkli_tipler[1]}\n",
        "    Float = {farkli_tipler[2]}\n",
        "    Boolean = {farkli_tipler[3]}\n",
        "    Liste = {farkli_tipler[4]}\"\"\")"
      ],
      "metadata": {
        "colab": {
          "base_uri": "https://localhost:8080/"
        },
        "id": "0wEy4tHaeh8p",
        "outputId": "cd29000d-4336-4339-bc0e-befd7d54eada"
      },
      "execution_count": null,
      "outputs": [
        {
          "output_type": "stream",
          "name": "stdout",
          "text": [
            "\n",
            "    String = meyve\n",
            "    İnteger = 15\n",
            "    Float = 3.14\n",
            "    Boolean = True\n",
            "    Liste = [1, 2, 3, 4]\n"
          ]
        }
      ]
    },
    {
      "cell_type": "code",
      "source": [
        "liste = [1,2,3,4,5,6,7,8,9,10,11,12,13,14,15,16,17,18,19,20]\n",
        "cift_sayilar = []\n",
        "for sayi in liste:\n",
        "  if sayi % 2 == 0:\n",
        "    cift_sayilar.append(sayi) #append() metodu parametre olarak verdiğimiz değeri veya değişkeni listeye ekleme yapar\n",
        "print(\"Çift Sayılar: \", cift_sayilar)"
      ],
      "metadata": {
        "colab": {
          "base_uri": "https://localhost:8080/"
        },
        "id": "PQ6mdqbMe3-p",
        "outputId": "1e6edc1e-c1a8-439b-8fc4-7f2471275f9e"
      },
      "execution_count": null,
      "outputs": [
        {
          "output_type": "stream",
          "name": "stdout",
          "text": [
            "Çift Sayılar:  [2, 4, 6, 8, 10, 12, 14, 16, 18, 20]\n"
          ]
        }
      ]
    },
    {
      "cell_type": "markdown",
      "source": [
        "**ALIŞTIRMA 1**\n",
        "Aşağıdaki meyvelerden harf sayısı 4'den fazla olanları boş bir listeye atın"
      ],
      "metadata": {
        "id": "LQPs4N7Eg0z5"
      }
    },
    {
      "cell_type": "code",
      "source": [
        "sepet = [\"elma\",\"armut\",\"portakal\",\"çilek\",\"muz\"]\n",
        "bos_liste = []\n",
        "for meyve in sepet:\n",
        "  if len(meyve) > 4:\n",
        "    bos_liste.append(meyve)\n",
        "print(f\"Harf sayısı 4 den fazla olan meyveler: {bos_liste}\")"
      ],
      "metadata": {
        "colab": {
          "base_uri": "https://localhost:8080/"
        },
        "id": "QXX8aX_NfNrp",
        "outputId": "8407e45c-7933-4d1b-c57a-d71eee33b67c"
      },
      "execution_count": null,
      "outputs": [
        {
          "output_type": "stream",
          "name": "stdout",
          "text": [
            "Harf sayısı 4 den fazla olan meyveler: ['armut', 'portakal', 'çilek']\n"
          ]
        }
      ]
    },
    {
      "cell_type": "markdown",
      "source": [
        "# İndeksleme Ve Dilimleme"
      ],
      "metadata": {
        "id": "p1_SY4FMj7uv"
      }
    },
    {
      "cell_type": "code",
      "source": [
        "liste = [0,1,2,3,4,5,6,7,8,9]\n",
        "liste[0]"
      ],
      "metadata": {
        "colab": {
          "base_uri": "https://localhost:8080/"
        },
        "id": "pQmR2rx8jdof",
        "outputId": "78b00696-e834-4988-cebc-d4cc41077c3f"
      },
      "execution_count": null,
      "outputs": [
        {
          "output_type": "execute_result",
          "data": {
            "text/plain": [
              "0"
            ]
          },
          "metadata": {},
          "execution_count": 21
        }
      ]
    },
    {
      "cell_type": "code",
      "source": [
        "liste[0:6:2] # => [Başlangıç index, bitiş index, adım_sayısı]"
      ],
      "metadata": {
        "colab": {
          "base_uri": "https://localhost:8080/"
        },
        "id": "5hH_L56zkKnu",
        "outputId": "2c6ab147-769f-407a-fe60-e820cd6c1d88"
      },
      "execution_count": null,
      "outputs": [
        {
          "output_type": "execute_result",
          "data": {
            "text/plain": [
              "[0, 2, 4]"
            ]
          },
          "metadata": {},
          "execution_count": 25
        }
      ]
    },
    {
      "cell_type": "code",
      "source": [
        "liste = [0,1,2,3,4,5,6,7,8,9]\n",
        "#                       -2,-1\n",
        "liste[-2:] # [Varsayılan olarak ilk index:Varsayılan olarak sonuncu index]\n",
        "liste[:6]"
      ],
      "metadata": {
        "colab": {
          "base_uri": "https://localhost:8080/"
        },
        "id": "_AeyE3askavm",
        "outputId": "127a0a42-6bf6-4c23-fe96-042d5cfcaf92"
      },
      "execution_count": null,
      "outputs": [
        {
          "output_type": "execute_result",
          "data": {
            "text/plain": [
              "[0, 1, 2, 3, 4, 5]"
            ]
          },
          "metadata": {},
          "execution_count": 34
        }
      ]
    },
    {
      "cell_type": "code",
      "source": [
        "veri_seti = [110,\"Bahçeli\",\"Garajlı\",\"Havuzlu\",True,205000.250]\n",
        "giris_özellikler = veri_seti[:-1] #X\n",
        "giris_özellikler\n",
        "modelin_ciktisi = veri_seti[-1] #y\n",
        "modelin_ciktisi"
      ],
      "metadata": {
        "colab": {
          "base_uri": "https://localhost:8080/"
        },
        "id": "KsdMUztDlJtW",
        "outputId": "5d513369-1dd4-4d70-d8ac-26a45c9747f0"
      },
      "execution_count": null,
      "outputs": [
        {
          "output_type": "execute_result",
          "data": {
            "text/plain": [
              "205000.25"
            ]
          },
          "metadata": {},
          "execution_count": 37
        }
      ]
    },
    {
      "cell_type": "markdown",
      "source": [
        "Bana bu listenin X ve y olarak dilimleyin"
      ],
      "metadata": {
        "id": "YoIgGyetnkc-"
      }
    },
    {
      "cell_type": "code",
      "source": [
        "kredi_karti_dolandiricilik = [\"Emre\",\"43912437946\",\"23.02.2024\",150000,True]\n",
        "X = kredi_karti_dolandiricilik[:4]\n",
        "y = kredi_karti_dolandiricilik[-1]\n",
        "print(f\"\"\"\n",
        "      Giriş Özellikleri: {X}\n",
        "      Çıktı            : {y}\"\"\")"
      ],
      "metadata": {
        "colab": {
          "base_uri": "https://localhost:8080/"
        },
        "id": "8y26wXvvmpXl",
        "outputId": "d0302862-4264-49c0-c213-41515547ee5c"
      },
      "execution_count": null,
      "outputs": [
        {
          "output_type": "stream",
          "name": "stdout",
          "text": [
            "\n",
            "      Giriş Özellikleri: ['Emre', '43912437946', '23.02.2024', 150000]\n",
            "      Çıktı            : True\n"
          ]
        }
      ]
    },
    {
      "cell_type": "markdown",
      "source": [
        "# İç içe Listeler => Çok Boyutlu Listeler => Matrix"
      ],
      "metadata": {
        "id": "7f64mzvJviQK"
      }
    },
    {
      "cell_type": "markdown",
      "source": [
        "[bağlantı metni](https://www.mathsisfun.com/algebra/images/scalar-vector-matrix.svg)"
      ],
      "metadata": {
        "id": "tyWsFq5rwgYx"
      }
    },
    {
      "cell_type": "code",
      "source": [
        "matrix = [[1,2,3,4,5],[6,7,8,9,10]]\n",
        "print(matrix)"
      ],
      "metadata": {
        "colab": {
          "base_uri": "https://localhost:8080/"
        },
        "id": "nK04RNIoqXE8",
        "outputId": "38b17b1d-2034-4e2c-bff4-5a240b7ee098"
      },
      "execution_count": null,
      "outputs": [
        {
          "output_type": "stream",
          "name": "stdout",
          "text": [
            "[[1, 2, 3, 4, 5], [6, 7, 8, 9, 10]]\n"
          ]
        }
      ]
    },
    {
      "cell_type": "markdown",
      "source": [
        "**Matrix İndexleme Ve Dilimleme**"
      ],
      "metadata": {
        "id": "FqyWypk4xXqR"
      }
    },
    {
      "cell_type": "markdown",
      "source": [
        "[bağlantı metni](https://jalammar.github.io/images/numpy/numpy-matrix-indexing.png)"
      ],
      "metadata": {
        "id": "fR0YsJnvxdLA"
      }
    },
    {
      "cell_type": "code",
      "source": [
        "print(matrix)\n",
        "print() # Araya satır başı atmak için bazen kullanılır\n",
        "print(f\"\"\"\n",
        "Matrix değişkenin 1.elemanı: {matrix[0]}\n",
        "Matrix değişkenin 2.elemanı: {matrix[1]}\"\"\")"
      ],
      "metadata": {
        "colab": {
          "base_uri": "https://localhost:8080/"
        },
        "id": "526hcPY2vezB",
        "outputId": "0ad5b56e-b7fb-4da4-caf0-287e3e973dc0"
      },
      "execution_count": null,
      "outputs": [
        {
          "output_type": "stream",
          "name": "stdout",
          "text": [
            "[[1, 2, 3, 4, 5], [6, 7, 8, 9, 10]]\n",
            "\n",
            "\n",
            "Matrix değişkenin 1.elemanı: [1, 2, 3, 4, 5]\n",
            "Matrix değişkenin 2.elemanı: [6, 7, 8, 9, 10]\n"
          ]
        }
      ]
    },
    {
      "cell_type": "code",
      "source": [
        "print(f\"\"\"\n",
        "1.Elemanın 1.elemanı: {matrix[0][0]}\n",
        "1.Elemanın 2.elemanı: {matrix[0][1]}\n",
        "1.Elemanın 3.elemanı: {matrix[0][2]}\n",
        "1.Elemanın 4.elemanı: {matrix[0][3]}\n",
        "1.Elemanın 5.elemanı: {matrix[0][4]}\n",
        "-------------------------------------\n",
        "2.Elemanın 1.elemanı: {matrix[1][0]}\n",
        "2.Elemanın 2.elemanı: {matrix[1][1]}\n",
        "2.Elemanın 3.elemanı: {matrix[1][2]}\n",
        "2.Elemanın 4.elemanı: {matrix[1][3]}\n",
        "2.Elemanın 5.elemanı: {matrix[1][4]}\n",
        "\n",
        "\"\"\")"
      ],
      "metadata": {
        "colab": {
          "base_uri": "https://localhost:8080/"
        },
        "id": "j6FIjdDKx3NH",
        "outputId": "6c82093d-c704-49da-df62-2a5c9f46040f"
      },
      "execution_count": null,
      "outputs": [
        {
          "output_type": "stream",
          "name": "stdout",
          "text": [
            "\n",
            "1.Elemanın 1.elemanı: 1\n",
            "1.Elemanın 2.elemanı: 2\n",
            "1.Elemanın 3.elemanı: 3\n",
            "1.Elemanın 4.elemanı: 4\n",
            "1.Elemanın 5.elemanı: 5\n",
            "-------------------------------------\n",
            "2.Elemanın 1.elemanı: 6\n",
            "2.Elemanın 2.elemanı: 7\n",
            "2.Elemanın 3.elemanı: 8\n",
            "2.Elemanın 4.elemanı: 9\n",
            "2.Elemanın 5.elemanı: 10\n",
            "\n",
            "\n"
          ]
        }
      ]
    },
    {
      "cell_type": "markdown",
      "source": [
        "\n",
        "Aşağıdaki matrixin Sütunlarını sırayla yazdıralım."
      ],
      "metadata": {
        "id": "4h0lZbKfy43B"
      }
    },
    {
      "cell_type": "code",
      "source": [
        "veri_seti = [\"Evin_Boyutu(m2)\",[120,100,130],\"Bahceli mi?\",[True,False,True],\"Havuzlu mu?\",[True,False,False],\"Oda_Sayısı\",[4,5,7]]\n",
        "print(f\"\"\"\n",
        "        Sütunların İndexleri\n",
        "          Evin_boyutu: {veri_seti.index(\"Evin_Boyutu(m2)\")}\n",
        "          Bahceli mi?: {veri_seti.index(\"Bahceli mi?\")}\n",
        "          Havuzlu mu?: {veri_seti.index(\"Havuzlu mu?\")}\n",
        "          Oda sayisi:  {veri_seti.index(\"Oda_Sayısı\")}\n",
        "      \"\"\")\n",
        "print(f\"\"\"\n",
        "      {veri_seti[0]}    {veri_seti[2]}    {veri_seti[4]}    {veri_seti[6]}\n",
        "      {veri_seti[1][0]} \\t\\t{veri_seti[3][0]}\\t\\t {veri_seti[5][0]}\\t\\t {veri_seti[7][0]}\n",
        "      {veri_seti[1][1]} \\t\\t{veri_seti[3][1]}\\t\\t {veri_seti[5][1]}\\t\\t {veri_seti[7][1]}\n",
        "      {veri_seti[1][2]} \\t\\t{veri_seti[3][2]}\\t\\t {veri_seti[5][2]}\\t\\t {veri_seti[7][2]}\n",
        "\n",
        "      \"\"\")"
      ],
      "metadata": {
        "colab": {
          "base_uri": "https://localhost:8080/"
        },
        "id": "IITsULahy0Ho",
        "outputId": "d2622219-a3bb-4f74-df1a-8f55769201de"
      },
      "execution_count": null,
      "outputs": [
        {
          "output_type": "stream",
          "name": "stdout",
          "text": [
            "\n",
            "        Sütunların İndexleri\n",
            "          Evin_boyutu: 0\n",
            "          Bahceli mi?: 2\n",
            "          Havuzlu mu?: 4\n",
            "          Oda sayisi:  6\n",
            "      \n",
            "\n",
            "      Evin_Boyutu(m2)    Bahceli mi?    Havuzlu mu?    Oda_Sayısı\n",
            "      120 \t\tTrue\t\t True\t\t 4\n",
            "      100 \t\tFalse\t\t False\t\t 5\n",
            "      130 \t\tTrue\t\t False\t\t 7\n",
            "\n",
            "      \n"
          ]
        }
      ]
    },
    {
      "cell_type": "code",
      "source": [],
      "metadata": {
        "id": "fRb83cbR0Q1m"
      },
      "execution_count": null,
      "outputs": []
    },
    {
      "cell_type": "markdown",
      "source": [
        "**ALIŞTIRMA 2**\n",
        "Aşağıdaki meyvelerin karşısına kaç kilogram olduğunu ve adet sayısı yazdırın"
      ],
      "metadata": {
        "id": "GBQjjAda3E2-"
      }
    },
    {
      "cell_type": "code",
      "source": [
        "sepet=[\"Elma\",[5,3.5],\"Armut\",[7,2.5],\"Portakal\",[9,5.3]]\n",
        "\n",
        "print(f\"\"\"\n",
        "         {sepet[0]}         {sepet[2]}            {sepet[4]}\n",
        "\"Adet\" : {sepet[1][0]}\\t\\t{sepet[3][0]}\\t\\t{sepet[5][0]}\n",
        "\"Kilo\" : {sepet[1][1]}\\t\\t{sepet[3][1]}\\t\\t{sepet[5][1]}\n",
        "\n",
        "\n",
        "\"\"\")"
      ],
      "metadata": {
        "colab": {
          "base_uri": "https://localhost:8080/"
        },
        "id": "fxwMZ4is3QLs",
        "outputId": "20c056e4-eb45-4afb-b5be-180d4409a380"
      },
      "execution_count": null,
      "outputs": [
        {
          "output_type": "stream",
          "name": "stdout",
          "text": [
            "\n",
            "         Elma         Armut            Portakal    \n",
            "\"Adet\" : 5\t\t7\t\t9\n",
            "\"Kilo\" : 3.5\t\t2.5\t\t5.3\n",
            "  \n",
            "\n",
            "\n"
          ]
        }
      ]
    },
    {
      "cell_type": "markdown",
      "source": [
        "# List Compheresion => Liste İçerisinde Döngü Ve Şartlar"
      ],
      "metadata": {
        "id": "TUEX2ITy7Uou"
      }
    },
    {
      "cell_type": "code",
      "source": [
        "sayilar = []\n",
        "for sayi in range(1,11):\n",
        "  sayilar.append(sayi)\n",
        "sayilar"
      ],
      "metadata": {
        "colab": {
          "base_uri": "https://localhost:8080/"
        },
        "id": "JMAFyIBk7jBy",
        "outputId": "2c6f758c-37ab-44a9-8bce-882f33ba1b54"
      },
      "execution_count": null,
      "outputs": [
        {
          "output_type": "execute_result",
          "data": {
            "text/plain": [
              "[1, 2, 3, 4, 5, 6, 7, 8, 9, 10]"
            ]
          },
          "metadata": {},
          "execution_count": 54
        }
      ]
    },
    {
      "cell_type": "code",
      "source": [
        "sayilar = [sayi for sayi in range(1,11)] #List Compheresion\n",
        "sayilar"
      ],
      "metadata": {
        "colab": {
          "base_uri": "https://localhost:8080/"
        },
        "id": "4Th7Z1cH7w0S",
        "outputId": "9110c12e-d221-4e20-81cf-81bdd3baf2cd"
      },
      "execution_count": null,
      "outputs": [
        {
          "output_type": "execute_result",
          "data": {
            "text/plain": [
              "[1, 2, 3, 4, 5, 6, 7, 8, 9, 10]"
            ]
          },
          "metadata": {},
          "execution_count": 55
        }
      ]
    },
    {
      "cell_type": "code",
      "source": [
        "pi = 3.14\n",
        "yari_caplar = [5,6,7,8,9,10]\n",
        "dairelerin_alani = [pi * (r **2) for r in yari_caplar]\n",
        "print(f\"Darilerin_alanı'nın Veri Tipi: {type(dairelerin_alani)}\")\n",
        "print(f\"Dairelerin Alanı: {dairelerin_alani}\")"
      ],
      "metadata": {
        "colab": {
          "base_uri": "https://localhost:8080/"
        },
        "id": "yNX3B4317_wq",
        "outputId": "cbf229cd-31dc-47c3-8621-fd13ce98be26"
      },
      "execution_count": null,
      "outputs": [
        {
          "output_type": "stream",
          "name": "stdout",
          "text": [
            "Darilerin_alanı'nın Veri Tipi: <class 'list'>\n",
            "Dairelerin Alanı: [78.5, 113.04, 153.86, 200.96, 254.34, 314.0]\n"
          ]
        }
      ]
    },
    {
      "cell_type": "code",
      "source": [],
      "metadata": {
        "id": "CcdLQD9_8eaK"
      },
      "execution_count": null,
      "outputs": []
    }
  ]
}